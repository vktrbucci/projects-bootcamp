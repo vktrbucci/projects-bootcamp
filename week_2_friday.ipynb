{
 "metadata": {
  "language_info": {
   "codemirror_mode": {
    "name": "ipython",
    "version": 3
   },
   "file_extension": ".py",
   "mimetype": "text/x-python",
   "name": "python",
   "nbconvert_exporter": "python",
   "pygments_lexer": "ipython3",
   "version": "3.8.2-final"
  },
  "orig_nbformat": 2,
  "kernelspec": {
   "name": "Python 3.8.2 64-bit",
   "display_name": "Python 3.8.2 64-bit",
   "metadata": {
    "interpreter": {
     "hash": "31f2aee4e71d21fbe5cf8b01ff0e069b9275f58929596ceb00d14d90e3e16cd6"
    }
   }
  }
 },
 "nbformat": 4,
 "nbformat_minor": 2,
 "cells": [
  {
   "source": [
    "# Creating a Receipt Printing Program\n",
    "Here we will use concepts of variables, operators and string manipulation."
   ],
   "cell_type": "markdown",
   "metadata": {}
  },
  {
   "source": [
    "## The Final Design\n",
    "It is always good to visualize what you want your program to look like. And we want something like this:"
   ],
   "cell_type": "markdown",
   "metadata": {}
  },
  {
   "cell_type": "code",
   "execution_count": 2,
   "metadata": {},
   "outputs": [],
   "source": [
    "# '''\n",
    "# ***************************************************\n",
    "#                 Coding Temple, Inc.\n",
    "#                 283 Franklin St.\n",
    "#                 Boston, MA\n",
    "# ===================================================\n",
    "#         Product Name        Product Price\n",
    "#         Books               $49.95\n",
    "#         Computer            $579.99\n",
    "#         Monitor             $124.89\n",
    "# ===================================================\n",
    "#                             Total\n",
    "#                             $754.83\n",
    "# ===================================================\n",
    "\n",
    "#             Thanks for shopping with us!\n",
    "\n",
    "# ***************************************************\n",
    "# '''"
   ]
  },
  {
   "source": [
    "## Initial Process\n",
    "The first thing to do is to understand where to start. We will need:<br>\n",
    "The borders and inside divisions;<br>\n",
    "The company name and address;<br>\n",
    "The products and their prices;<br>\n",
    " "
   ],
   "cell_type": "markdown",
   "metadata": {}
  }
 ]
}