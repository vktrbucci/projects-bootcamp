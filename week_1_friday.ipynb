{
 "metadata": {
  "language_info": {
   "codemirror_mode": {
    "name": "ipython",
    "version": 3
   },
   "file_extension": ".py",
   "mimetype": "text/x-python",
   "name": "python",
   "nbconvert_exporter": "python",
   "pygments_lexer": "ipython3",
   "version": "3.8.2-final"
  },
  "orig_nbformat": 2,
  "kernelspec": {
   "name": "python_defaultSpec_1601933510820",
   "display_name": "Python 3.8.2 64-bit"
  }
 },
 "nbformat": 4,
 "nbformat_minor": 2,
 "cells": [
  {
   "source": [
    "# Creating Your First Program"
   ],
   "cell_type": "markdown",
   "metadata": {}
  },
  {
   "source": [
    "## Guessing Game\n",
    "Let's see how good is our luck. The computer will \"think\" of a number and it is up to you to guess which number is it."
   ],
   "cell_type": "markdown",
   "metadata": {}
  },
  {
   "source": [
    "To build this program, we need just a few things:<br>\n",
    "Make the computer generate a random number;<br>\n",
    "Get a number from the user;<br>\n",
    "Compare the two;<br>\n",
    "Determine who won, based on whether the numbers are the same or not."
   ],
   "cell_type": "markdown",
   "metadata": {}
  },
  {
   "source": [
    "### Getting a random number\n",
    "The first thing is to import the random library. We will need the randint() method from the random module."
   ],
   "cell_type": "markdown",
   "metadata": {}
  },
  {
   "cell_type": "code",
   "execution_count": 3,
   "metadata": {},
   "outputs": [
    {
     "output_type": "execute_result",
     "data": {
      "text/plain": "4"
     },
     "metadata": {},
     "execution_count": 3
    }
   ],
   "source": [
    "from random import randint\n",
    "npc_number = randint(0, 10)\n",
    "npc_number"
   ]
  },
  {
   "source": [
    "### Getting a number from the user\n",
    "To get input from the user we use the, you guessed it, input() method. But the input() method receives a string, so we have to convert our number to an int."
   ],
   "cell_type": "markdown",
   "metadata": {}
  },
  {
   "cell_type": "code",
   "execution_count": 7,
   "metadata": {},
   "outputs": [
    {
     "output_type": "execute_result",
     "data": {
      "text/plain": "4"
     },
     "metadata": {},
     "execution_count": 7
    }
   ],
   "source": [
    "user_number = int(input())\n",
    "user_number"
   ]
  },
  {
   "source": [
    "### Comparing the two numbers\n",
    "Now we can compare the two numbers using a simple if statement."
   ],
   "cell_type": "markdown",
   "metadata": {}
  },
  {
   "cell_type": "code",
   "execution_count": 8,
   "metadata": {
    "tags": []
   },
   "outputs": [
    {
     "output_type": "stream",
     "name": "stdout",
     "text": "You win!\n"
    }
   ],
   "source": [
    "if user_number == npc_number:\n",
    "    print('You win!')\n",
    "else:\n",
    "    print('You lose!')"
   ]
  },
  {
   "cell_type": "code",
   "execution_count": null,
   "metadata": {},
   "outputs": [],
   "source": []
  }
 ]
}